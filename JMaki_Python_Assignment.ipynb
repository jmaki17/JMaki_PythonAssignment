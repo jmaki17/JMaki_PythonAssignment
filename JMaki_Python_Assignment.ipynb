{
 "cells": [
  {
   "cell_type": "markdown",
   "metadata": {},
   "source": [
    "# Joel Maki Python Assignment"
   ]
  },
  {
   "cell_type": "code",
   "execution_count": 2,
   "metadata": {
    "collapsed": true
   },
   "outputs": [],
   "source": [
    "##importing the various packages that may be needed for the assignment\n",
    "from Bio import SeqIO\n",
    "from Bio.Data import CodonTable\n",
    "import pandas as pd\n",
    "import seaborn as sns\n",
    "%matplotlib inline\n",
    "import numpy as np"
   ]
  },
  {
   "cell_type": "markdown",
   "metadata": {},
   "source": [
    "Fxns:"
   ]
  },
  {
   "cell_type": "code",
   "execution_count": 3,
   "metadata": {
    "collapsed": true
   },
   "outputs": [],
   "source": [
    "def get_sequences_from_file(fasta_fn):\n",
    "    sequence_data_dict = {}\n",
    "    for record in SeqIO.parse(fasta_fn, \"fasta\"):\n",
    "        description = record.description.split()\n",
    "        species_name = description[1] + \" \" + description[2]\n",
    "        sequence_data_dict[species_name] = record.seq\n",
    "    return(sequence_data_dict)\n",
    "##In this line of code we are creating a new function \"get_sequences_from_file\" that accepts fasta files \n",
    "##that will recognize \"fasta_fn\" as input. The second line is creating an empty dictionary called sequence_data_dict\n",
    "##Next, we use  for loop with SeqIO.parse on \"fasta_fn\" and a format name that can be used by SeqIO.parse \"fasta\" \n",
    "##and returns a record ID (from http://biopython.org/wiki/SeqIO), then we are take the \"description\" of the record \n",
    "## and split the entire description string into seperate descriptions using the split() command \n",
    "##(from http://biopython.org/wiki/SeqIO). After splittng the description string into individual \"descriptions\"\n",
    "## we are taking the second (description[1]) and third (description[2]) words from the fasta file, seperating them \n",
    "## with a space (\" \") and defining that at the \"species_name\" that we then use as a key for the dictionary that was \n",
    "##created. Then we use the \"species_name\" we created in the previous line and using that as the key in the dictionary \n",
    "##that we created in line 2 and the entry being the nucleotide sequence (record.seq). This returns the final dictionary\n",
    "##with all the \"species_name\"'s as keys and with the nucleotide sequences as the entries. "
   ]
  },
  {
   "cell_type": "code",
   "execution_count": 14,
   "metadata": {
    "collapsed": true
   },
   "outputs": [],
   "source": [
    "def translate_function(string_nucleotides):\n",
    "    mito_table = CodonTable.unambiguous_dna_by_name[\"Vertebrate Mitochondrial\"]\n",
    "    aa_seq_string =\"\"\n",
    "    for aa in range(0,int(len(string_nucleotides)),3):\n",
    "        codon = string_nucleotides[aa:aa+3]\n",
    "        if codon in mito_table.stop_codons:\n",
    "            return aa_seq_string\n",
    "        aa_seq_string=aa_seq_string+mito_table.forward_table[codon]\n",
    "    return(aa_seq_string)\n",
    "##In this script we are creating a function called \"translate_function\" which will take a string of nucleotides\n",
    "##and sort it into an amino acid sequence.\n",
    "##Here we create a for loop that will take every 3 nucleotides from the first position to the end of the input sequence \n",
    "##Lines 5-8 are part of the for loop where we are defining what that each codon is 3 nucleotides and\n",
    "##that if the specific codon is found in the mitoTable.stop_codons\n",
    "##(found on http://biopython.org/DIST/docs/tutorial/Tutorial.html), then it will return the aa_seq_string, which\n",
    "##is then converted into a string of amino acids using the mito_table.forward_table[] command on each codon and adding\n",
    "##it to the aa_seq_string\n",
    "##The end result returns the aa_seq_string with the aa's for every 3 nucleotides\n",
    "    "
   ]
  },
  {
   "cell_type": "code",
   "execution_count": 15,
   "metadata": {},
   "outputs": [
    {
     "name": "stdout",
     "output_type": "stream",
     "text": [
      "MAPNLRKSHPLLKMINNSLIDLPTPSNISAWWNFGSLLGICLTTQILTGLLLAMHYTADTTLAFSSVAHTCRNVQYGWLIRNLHANGASFFFICIYLHIGRGFYYGSYLYKETWNTGIILLLTLMATAFVGYVLPWGQMSFWGATVITNLFSAIPYIGQTLVEWTWGGFSVDNPTLTRFFALHFLLPFMIAGLTLIHLTFLHESGSNNPLGIVANSDKIPFHPYYSTKDILGFALMLLPLTTLALFSPNLLGDPENFTPANPLVTPPHIKPEWYFLFAYAILRSIPNKLGGVLALAASVLILFLIPLLHKSKQRTMAFRPLSQLLFWALVANLIILTWVGSQPVEHPFIIIGQLASLTYFTTLLILFPIAGALENKMLNH\n"
     ]
    }
   ],
   "source": [
    "##testing the translate fxn by running the first species in \"penguins_cytb.fasta\" through\n",
    "test = get_sequences_from_file(\"penguins_cytb.fasta\")\n",
    "test[\"Aptenodytes forsteri\"]\n",
    "aa_test = translate_function(str(test[\"Aptenodytes forsteri\"]))\n",
    "print(aa_test)"
   ]
  },
  {
   "cell_type": "code",
   "execution_count": 16,
   "metadata": {
    "collapsed": true
   },
   "outputs": [],
   "source": [
    "##Developing a better function for translating a string of nucleotides into a protein sequence\n",
    "from Bio import Seq\n",
    "\n",
    "def better_translate_fxn(string_nucleotides):\n",
    "    aa_seq_string=Seq.translate(string_nucleotides, table=2, to_stop=True)\n",
    "    return aa_seq_string\n",
    "##(found on http://biopython.org/DIST/docs/api/Bio.Seq-pysrc.html)\n",
    "##using the Seq package, there is a fxn that can automatically translate a string of nucleotides into an amino acid\n",
    "##sequence. Here, we are creating a new function that can \"better_translate_fxn\" that accepts a string of nucleotides\n",
    "##as an input. The translate() function in Seqs can accept a string of nucleotides and \n",
    "##translate it into an amino acid sequence, the table=2 option makes sure that the codon table that is being used\n",
    "##is the same mitochondria table that was used in the other translation fxn, and the to_stop=True makes sure that \n",
    "##the translation is stopped at the first stop codon and that the stop codon is not incorporated into the final \n",
    "##translated sequence"
   ]
  },
  {
   "cell_type": "code",
   "execution_count": 18,
   "metadata": {},
   "outputs": [
    {
     "name": "stdout",
     "output_type": "stream",
     "text": [
      "MAPNLRKSHPLLKMINNSLIDLPTPSNISAWWNFGSLLGICLTTQILTGLLLAMHYTADTTLAFSSVAHTCRNVQYGWLIRNLHANGASFFFICIYLHIGRGFYYGSYLYKETWNTGIILLLTLMATAFVGYVLPWGQMSFWGATVITNLFSAIPYIGQTLVEWTWGGFSVDNPTLTRFFALHFLLPFMIAGLTLIHLTFLHESGSNNPLGIVANSDKIPFHPYYSTKDILGFALMLLPLTTLALFSPNLLGDPENFTPANPLVTPPHIKPEWYFLFAYAILRSIPNKLGGVLALAASVLILFLIPLLHKSKQRTMAFRPLSQLLFWALVANLIILTWVGSQPVEHPFIIIGQLASLTYFTTLLILFPIAGALENKMLNH\n"
     ]
    }
   ],
   "source": [
    "##testing the \"better\" translation fxn\n",
    "aa_test = better_translate_fxn(str(test[\"Aptenodytes forsteri\"]))\n",
    "print(aa_test)"
   ]
  },
  {
   "cell_type": "code",
   "execution_count": 21,
   "metadata": {
    "collapsed": true
   },
   "outputs": [],
   "source": [
    "##developing a function to calculate the molecular weight of an amino acid sequence\n",
    "from Bio.SeqUtils.ProtParam import ProteinAnalysis\n",
    "##first going to import the \"ProteinAnalysis\" package from \"Bio.SeqUtils.ProtParam\"\n",
    "def compute_molecular_weight(aa_seq_string):\n",
    "    analyzed_seq = ProteinAnalysis(aa_seq_string)\n",
    "    mw = analyzed_seq.molecular_weight()\n",
    "    return mw\n",
    "##here we create a new fxn called \"compute_molecular_weight\", which can be used to calculate the molecular weight of\n",
    "##the various amino acid sequences. We used the \"ProteinAnalysis\" fxn on the inputted aa string and put it into a \n",
    "##new variable called \"analyzed_seq\". The \"analyzed_seq.molecular_weight()\" fxn on analyzed_seq variable created in \n",
    "##the previous line and creating a variable mw, which contains the calculated molecular weight\n",
    "\n",
    "\n"
   ]
  },
  {
   "cell_type": "code",
   "execution_count": 20,
   "metadata": {},
   "outputs": [
    {
     "name": "stdout",
     "output_type": "stream",
     "text": [
      "42459.602100000004\n"
     ]
    }
   ],
   "source": [
    "##testing the mw fxn\n",
    "mw_test = compute_molecular_weight(aa_test)\n",
    "print(mw_test)"
   ]
  },
  {
   "cell_type": "code",
   "execution_count": 25,
   "metadata": {
    "collapsed": true
   },
   "outputs": [],
   "source": [
    "##GC content analysis fxn (adapted from the first python lecture)\n",
    "def GC_content(string_nucleotides):\n",
    "    GC_count = 0\n",
    "    for base in string_nucleotides:\n",
    "        if base is 'G' or base is 'C':\n",
    "            GC_count += 1\n",
    "    percent = GC_count / len(string_nucleotides)\n",
    "    GC_content = percent*100 \n",
    "    return GC_content\n"
   ]
  },
  {
   "cell_type": "code",
   "execution_count": 26,
   "metadata": {},
   "outputs": [
    {
     "name": "stdout",
     "output_type": "stream",
     "text": [
      "48.38145231846019\n"
     ]
    }
   ],
   "source": [
    "##testing the GC_count fxn\n",
    "GC_test = GC_content(str(test[\"Aptenodytes forsteri\"]))\n",
    "print(GC_test)"
   ]
  },
  {
   "cell_type": "markdown",
   "metadata": {},
   "source": [
    "Main"
   ]
  },
  {
   "cell_type": "code",
   "execution_count": 46,
   "metadata": {
    "collapsed": true
   },
   "outputs": [],
   "source": [
    "##importing the needed files\n",
    "cytb_seqs = get_sequences_from_file(\"penguins_cytb.fasta\") \n",
    "\n",
    "penguins_df = pd.read_csv(\"penguins_mass.csv\") # Includes only data for body mass \n",
    "species_list = list(penguins_df.species)"
   ]
  },
  {
   "cell_type": "code",
   "execution_count": 28,
   "metadata": {
    "collapsed": true
   },
   "outputs": [],
   "source": [
    "##Adding columns to the penguins data frame\n",
    "\n",
    "penguins_df[\"mw\"] = \"NaN\"\n",
    "penguins_df[\"GC_content\"] = \"NaN\""
   ]
  },
  {
   "cell_type": "code",
   "execution_count": 29,
   "metadata": {},
   "outputs": [
    {
     "data": {
      "text/html": [
       "<div>\n",
       "<style>\n",
       "    .dataframe thead tr:only-child th {\n",
       "        text-align: right;\n",
       "    }\n",
       "\n",
       "    .dataframe thead th {\n",
       "        text-align: left;\n",
       "    }\n",
       "\n",
       "    .dataframe tbody tr th {\n",
       "        vertical-align: top;\n",
       "    }\n",
       "</style>\n",
       "<table border=\"1\" class=\"dataframe\">\n",
       "  <thead>\n",
       "    <tr style=\"text-align: right;\">\n",
       "      <th></th>\n",
       "      <th>species</th>\n",
       "      <th>mass</th>\n",
       "      <th>mw</th>\n",
       "      <th>GC_content</th>\n",
       "    </tr>\n",
       "  </thead>\n",
       "  <tbody>\n",
       "    <tr>\n",
       "      <th>0</th>\n",
       "      <td>Aptenodytes forsteri</td>\n",
       "      <td>28.00</td>\n",
       "      <td>NaN</td>\n",
       "      <td>NaN</td>\n",
       "    </tr>\n",
       "    <tr>\n",
       "      <th>1</th>\n",
       "      <td>Aptenodytes patagonicus</td>\n",
       "      <td>13.40</td>\n",
       "      <td>NaN</td>\n",
       "      <td>NaN</td>\n",
       "    </tr>\n",
       "    <tr>\n",
       "      <th>2</th>\n",
       "      <td>Eudyptes chrysocome</td>\n",
       "      <td>2.80</td>\n",
       "      <td>NaN</td>\n",
       "      <td>NaN</td>\n",
       "    </tr>\n",
       "    <tr>\n",
       "      <th>3</th>\n",
       "      <td>Eudyptes chrysolophus</td>\n",
       "      <td>4.50</td>\n",
       "      <td>NaN</td>\n",
       "      <td>NaN</td>\n",
       "    </tr>\n",
       "    <tr>\n",
       "      <th>4</th>\n",
       "      <td>Eudyptes sclateri</td>\n",
       "      <td>4.25</td>\n",
       "      <td>NaN</td>\n",
       "      <td>NaN</td>\n",
       "    </tr>\n",
       "    <tr>\n",
       "      <th>5</th>\n",
       "      <td>Eudyptula minor</td>\n",
       "      <td>1.60</td>\n",
       "      <td>NaN</td>\n",
       "      <td>NaN</td>\n",
       "    </tr>\n",
       "    <tr>\n",
       "      <th>6</th>\n",
       "      <td>Pygoscelis adeliae</td>\n",
       "      <td>4.60</td>\n",
       "      <td>NaN</td>\n",
       "      <td>NaN</td>\n",
       "    </tr>\n",
       "    <tr>\n",
       "      <th>7</th>\n",
       "      <td>Pygoscelis antarctica</td>\n",
       "      <td>4.10</td>\n",
       "      <td>NaN</td>\n",
       "      <td>NaN</td>\n",
       "    </tr>\n",
       "    <tr>\n",
       "      <th>8</th>\n",
       "      <td>Pygoscelis papua</td>\n",
       "      <td>6.10</td>\n",
       "      <td>NaN</td>\n",
       "      <td>NaN</td>\n",
       "    </tr>\n",
       "    <tr>\n",
       "      <th>9</th>\n",
       "      <td>Spheniscus demersus</td>\n",
       "      <td>3.20</td>\n",
       "      <td>NaN</td>\n",
       "      <td>NaN</td>\n",
       "    </tr>\n",
       "    <tr>\n",
       "      <th>10</th>\n",
       "      <td>Spheniscus humboldti</td>\n",
       "      <td>4.75</td>\n",
       "      <td>NaN</td>\n",
       "      <td>NaN</td>\n",
       "    </tr>\n",
       "    <tr>\n",
       "      <th>11</th>\n",
       "      <td>Spheniscus magellanicus</td>\n",
       "      <td>3.40</td>\n",
       "      <td>NaN</td>\n",
       "      <td>NaN</td>\n",
       "    </tr>\n",
       "  </tbody>\n",
       "</table>\n",
       "</div>"
      ],
      "text/plain": [
       "                    species   mass   mw GC_content\n",
       "0      Aptenodytes forsteri  28.00  NaN        NaN\n",
       "1   Aptenodytes patagonicus  13.40  NaN        NaN\n",
       "2       Eudyptes chrysocome   2.80  NaN        NaN\n",
       "3     Eudyptes chrysolophus   4.50  NaN        NaN\n",
       "4         Eudyptes sclateri   4.25  NaN        NaN\n",
       "5           Eudyptula minor   1.60  NaN        NaN\n",
       "6        Pygoscelis adeliae   4.60  NaN        NaN\n",
       "7     Pygoscelis antarctica   4.10  NaN        NaN\n",
       "8          Pygoscelis papua   6.10  NaN        NaN\n",
       "9       Spheniscus demersus   3.20  NaN        NaN\n",
       "10     Spheniscus humboldti   4.75  NaN        NaN\n",
       "11  Spheniscus magellanicus   3.40  NaN        NaN"
      ]
     },
     "execution_count": 29,
     "metadata": {},
     "output_type": "execute_result"
    }
   ],
   "source": [
    "##checking to make sure the columns were added to the dataframe\n",
    "penguins_df"
   ]
  },
  {
   "cell_type": "code",
   "execution_count": 78,
   "metadata": {
    "collapsed": true
   },
   "outputs": [],
   "source": [
    "##Adding the molecular weight to the molecular weight\n",
    "##I looked through the files and noticed that the fasta file is in the same order as the table, so I created a for loop\n",
    "##that would apply the molecular weight/GC function sequentially down the the list and return the value in the proper\n",
    "##row using the index value and count (kinda a brittle solution but hey, it works...)\n",
    "##(https://pandas.pydata.org/pandas-docs/stable/generated/pandas.DataFrame.set_value.html)\n",
    "from Bio.SeqUtils import GC\n",
    "count= 0 \n",
    "for key, value in cytb_seqs.items():\n",
    "    species_seq = str(value)\n",
    "    aa_seq = better_translate_fxn(species_seq)\n",
    "    mw = compute_molecular_weight(aa_seq)\n",
    "    penguins_df.set_value(count, \"mw\", mw)\n",
    "    GC_cont = GC(species_seq)\n",
    "    penguins_df.set_value(count, \"GC_content\", GC_cont)\n",
    "    count = count + 1\n",
    "    \n",
    "##the GC function I created above keep producing an error that said \" float is not callable\" so I imported the GC \n",
    "##function from biopython and that seemed to work fine    "
   ]
  },
  {
   "cell_type": "code",
   "execution_count": 79,
   "metadata": {},
   "outputs": [
    {
     "data": {
      "text/html": [
       "<div>\n",
       "<style>\n",
       "    .dataframe thead tr:only-child th {\n",
       "        text-align: right;\n",
       "    }\n",
       "\n",
       "    .dataframe thead th {\n",
       "        text-align: left;\n",
       "    }\n",
       "\n",
       "    .dataframe tbody tr th {\n",
       "        vertical-align: top;\n",
       "    }\n",
       "</style>\n",
       "<table border=\"1\" class=\"dataframe\">\n",
       "  <thead>\n",
       "    <tr style=\"text-align: right;\">\n",
       "      <th></th>\n",
       "      <th>species</th>\n",
       "      <th>mass</th>\n",
       "      <th>mw</th>\n",
       "      <th>GC_content</th>\n",
       "    </tr>\n",
       "  </thead>\n",
       "  <tbody>\n",
       "    <tr>\n",
       "      <th>0</th>\n",
       "      <td>Aptenodytes forsteri</td>\n",
       "      <td>28.00</td>\n",
       "      <td>42459.6021</td>\n",
       "      <td>48.381452</td>\n",
       "    </tr>\n",
       "    <tr>\n",
       "      <th>1</th>\n",
       "      <td>Aptenodytes patagonicus</td>\n",
       "      <td>13.40</td>\n",
       "      <td>42563.7067</td>\n",
       "      <td>49.693788</td>\n",
       "    </tr>\n",
       "    <tr>\n",
       "      <th>2</th>\n",
       "      <td>Eudyptes chrysocome</td>\n",
       "      <td>2.80</td>\n",
       "      <td>42475.5753</td>\n",
       "      <td>51.181102</td>\n",
       "    </tr>\n",
       "    <tr>\n",
       "      <th>3</th>\n",
       "      <td>Eudyptes chrysolophus</td>\n",
       "      <td>4.50</td>\n",
       "      <td>42445.5493</td>\n",
       "      <td>50.918635</td>\n",
       "    </tr>\n",
       "    <tr>\n",
       "      <th>4</th>\n",
       "      <td>Eudyptes sclateri</td>\n",
       "      <td>4.25</td>\n",
       "      <td>42475.5753</td>\n",
       "      <td>50.831146</td>\n",
       "    </tr>\n",
       "    <tr>\n",
       "      <th>5</th>\n",
       "      <td>Eudyptula minor</td>\n",
       "      <td>1.60</td>\n",
       "      <td>42491.6408</td>\n",
       "      <td>49.256343</td>\n",
       "    </tr>\n",
       "    <tr>\n",
       "      <th>6</th>\n",
       "      <td>Pygoscelis adeliae</td>\n",
       "      <td>4.60</td>\n",
       "      <td>42458.6140</td>\n",
       "      <td>49.081365</td>\n",
       "    </tr>\n",
       "    <tr>\n",
       "      <th>7</th>\n",
       "      <td>Pygoscelis antarctica</td>\n",
       "      <td>4.10</td>\n",
       "      <td>42404.5423</td>\n",
       "      <td>47.769029</td>\n",
       "    </tr>\n",
       "    <tr>\n",
       "      <th>8</th>\n",
       "      <td>Pygoscelis papua</td>\n",
       "      <td>6.10</td>\n",
       "      <td>42595.8759</td>\n",
       "      <td>47.156605</td>\n",
       "    </tr>\n",
       "    <tr>\n",
       "      <th>9</th>\n",
       "      <td>Spheniscus demersus</td>\n",
       "      <td>3.20</td>\n",
       "      <td>42431.5490</td>\n",
       "      <td>48.293963</td>\n",
       "    </tr>\n",
       "    <tr>\n",
       "      <th>10</th>\n",
       "      <td>Spheniscus humboldti</td>\n",
       "      <td>4.75</td>\n",
       "      <td>42399.5520</td>\n",
       "      <td>49.256343</td>\n",
       "    </tr>\n",
       "    <tr>\n",
       "      <th>11</th>\n",
       "      <td>Spheniscus magellanicus</td>\n",
       "      <td>3.40</td>\n",
       "      <td>42459.6021</td>\n",
       "      <td>48.206474</td>\n",
       "    </tr>\n",
       "  </tbody>\n",
       "</table>\n",
       "</div>"
      ],
      "text/plain": [
       "                    species   mass          mw  GC_content\n",
       "0      Aptenodytes forsteri  28.00  42459.6021   48.381452\n",
       "1   Aptenodytes patagonicus  13.40  42563.7067   49.693788\n",
       "2       Eudyptes chrysocome   2.80  42475.5753   51.181102\n",
       "3     Eudyptes chrysolophus   4.50  42445.5493   50.918635\n",
       "4         Eudyptes sclateri   4.25  42475.5753   50.831146\n",
       "5           Eudyptula minor   1.60  42491.6408   49.256343\n",
       "6        Pygoscelis adeliae   4.60  42458.6140   49.081365\n",
       "7     Pygoscelis antarctica   4.10  42404.5423   47.769029\n",
       "8          Pygoscelis papua   6.10  42595.8759   47.156605\n",
       "9       Spheniscus demersus   3.20  42431.5490   48.293963\n",
       "10     Spheniscus humboldti   4.75  42399.5520   49.256343\n",
       "11  Spheniscus magellanicus   3.40  42459.6021   48.206474"
      ]
     },
     "execution_count": 79,
     "metadata": {},
     "output_type": "execute_result"
    }
   ],
   "source": [
    "penguins_df\n",
    "##checking to make sure the output is correct and the \"mw\" column has been filled in"
   ]
  },
  {
   "cell_type": "code",
   "execution_count": 71,
   "metadata": {},
   "outputs": [
    {
     "data": {
      "text/plain": [
       "<matplotlib.axes._subplots.AxesSubplot at 0x11661e160>"
      ]
     },
     "execution_count": 71,
     "metadata": {},
     "output_type": "execute_result"
    },
    {
     "data": {
      "image/png": "[encoded data removed]",
      "text/plain": [
       "<matplotlib.figure.Figure at 0x11677a390>"
      ]
     },
     "metadata": {},
     "output_type": "display_data"
    }
   ],
   "source": [
    "##creating a boxplot of the mass of the various penguin species\n",
    "##set the barchart to a horizontal orientation because it made the names readable\n",
    "##(https://seaborn.pydata.org/generated/seaborn.barplot.html)\n",
    "sns.barplot(y = \"species\", x = \"mass\", data = penguins_df)"
   ]
  },
  {
   "cell_type": "code",
   "execution_count": 73,
   "metadata": {
    "collapsed": true
   },
   "outputs": [],
   "source": [
    "##The smallest penguin species is \"Eudyptula minor\"\n",
    "##It is special because it is the smallest species of penguin AND because the creator of linux (Linus Torvalds) was\n",
    "##bitten by a small penguin, which inspired him to make the mascot for Linux a penguin. \n",
    "##(https://en.wikipedia.org/wiki/Little_penguin)"
   ]
  },
  {
   "cell_type": "code",
   "execution_count": 75,
   "metadata": {
    "scrolled": true
   },
   "outputs": [
    {
     "data": {
      "text/plain": [
       "<seaborn.axisgrid.FacetGrid at 0x113c7ee10>"
      ]
     },
     "execution_count": 75,
     "metadata": {},
     "output_type": "execute_result"
    },
    {
     "data": {
      "image/png": "[encoded data removed]",
      "text/plain": [
       "<matplotlib.figure.Figure at 0x116790a90>"
      ]
     },
     "metadata": {},
     "output_type": "display_data"
    }
   ],
   "source": [
    "##Plotting the molecular weight as a function of the GC_content\n",
    "sns.lmplot(y = \"mw\", x = \"GC_content\", data = penguins_df)"
   ]
  },
  {
   "cell_type": "code",
   "execution_count": 76,
   "metadata": {
    "collapsed": true
   },
   "outputs": [],
   "source": [
    "##Writing the new data frame to a csv\n",
    "penguins_df.to_csv('Final_penguins_df.csv')"
   ]
  },
  {
   "cell_type": "code",
   "execution_count": 77,
   "metadata": {},
   "outputs": [
    {
     "data": {
      "text/plain": [
       "<matplotlib.axes._subplots.AxesSubplot at 0x1168ade10>"
      ]
     },
     "execution_count": 77,
     "metadata": {},
     "output_type": "execute_result"
    },
    {
     "data": {
      "image/png": "[encoded data removed]",
      "text/plain": [
       "<matplotlib.figure.Figure at 0x1164197f0>"
      ]
     },
     "metadata": {},
     "output_type": "display_data"
    }
   ],
   "source": [
    "##BONUS\n",
    "##Comparing the GC content between penguin species\n",
    "sns.barplot(y = \"species\", x = \"GC_content\", data = penguins_df)"
   ]
  },
  {
   "cell_type": "code",
   "execution_count": null,
   "metadata": {
    "collapsed": true
   },
   "outputs": [],
   "source": []
  }
 ],
 "metadata": {
  "kernelspec": {
   "display_name": "Python 3",
   "language": "python",
   "name": "python3"
  },
  "language_info": {
   "codemirror_mode": {
    "name": "ipython",
    "version": 3
   },
   "file_extension": ".py",
   "mimetype": "text/x-python",
   "name": "python",
   "nbconvert_exporter": "python",
   "pygments_lexer": "ipython3",
   "version": "3.6.1"
  }
 },
 "nbformat": 4,
 "nbformat_minor": 2
}
